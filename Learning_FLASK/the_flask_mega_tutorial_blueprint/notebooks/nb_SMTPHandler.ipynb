{
 "metadata": {
  "language_info": {
   "codemirror_mode": {
    "name": "ipython",
    "version": 3
   },
   "file_extension": ".py",
   "mimetype": "text/x-python",
   "name": "python",
   "nbconvert_exporter": "python",
   "pygments_lexer": "ipython3",
   "version": "3.9.1-final"
  },
  "orig_nbformat": 2,
  "kernelspec": {
   "name": "python3",
   "display_name": "Python 3.9.1 64-bit ('flask': conda)",
   "metadata": {
    "interpreter": {
     "hash": "6c968c289f72d13e2955dbfd5e2a125e1595f621589260b6175d0eb6643d434b"
    }
   }
  }
 },
 "nbformat": 4,
 "nbformat_minor": 2,
 "cells": [
  {
   "cell_type": "code",
   "execution_count": null,
   "metadata": {},
   "outputs": [],
   "source": [
    "from logging.handlers import SMTPHandler"
   ]
  },
  {
   "cell_type": "code",
   "execution_count": null,
   "metadata": {},
   "outputs": [],
   "source": [
    "mail = SMTPHandler(mailhost=('smtp.gmail.com', 587),\n",
    "                   fromaddr='info.cgsource@gmail.com', \n",
    "                   toaddrs='samsimsom@gmail.com', \n",
    "                   subject='Sub', \n",
    "                   credentials=('info.cgsource@gmail.com', 'xxx'),\n",
    "                   secure=())"
   ]
  },
  {
   "cell_type": "code",
   "execution_count": null,
   "metadata": {},
   "outputs": [],
   "source": [
    "12 / 0"
   ]
  },
  {
   "cell_type": "code",
   "execution_count": null,
   "metadata": {},
   "outputs": [],
   "source": [
    "import smtplib"
   ]
  },
  {
   "cell_type": "code",
   "execution_count": null,
   "metadata": {},
   "outputs": [],
   "source": [
    "sender_email = 'info.cgsource@gmail.com'\n",
    "rec_email = 'samsimsom@gmail.com'\n",
    "password = 'xxx'\n",
    "message = 'Mail Body!'"
   ]
  },
  {
   "cell_type": "code",
   "execution_count": null,
   "metadata": {},
   "outputs": [],
   "source": [
    "server = smtplib.SMTP('smtp.gmail.com', 587)\n",
    "server.starttls()\n",
    "server.login(sender_email, password)\n",
    "print('login success')\n",
    "server.sendmail(sender_email, rec_email, message)\n",
    "print('email has been sent to', rec_email)"
   ]
  },
  {
   "cell_type": "code",
   "execution_count": null,
   "metadata": {},
   "outputs": [],
   "source": [
    "import logging\n",
    "from logging.handlers import SMTPHandler\n",
    "\n",
    "mail_handler = SMTPHandler(\n",
    "    mailhost=('smtp.gmail.com', 587),\n",
    "    fromaddr='info.cgsource@gmail.com',\n",
    "    toaddrs=['samsimsom@gmail.com'],\n",
    "    subject='Application Error',\n",
    "    credentials=('info.cgsource@gmail.com', 'xxx'),\n",
    "    secure=())\n",
    "    \n",
    "mail_handler.setLevel(logging.ERROR)\n",
    "mail_handler.setFormatter(logging.Formatter(\n",
    "    '[%(asctime)s] %(levelname)s in %(module)s: %(message)s'\n",
    "))\n",
    "\n",
    "if not app.debug:\n",
    "    app.logger.addHandler(mail_handler)"
   ]
  },
  {
   "cell_type": "code",
   "execution_count": null,
   "metadata": {},
   "outputs": [],
   "source": []
  }
 ]
}