{
 "metadata": {
  "language_info": {
   "codemirror_mode": {
    "name": "ipython",
    "version": 3
   },
   "file_extension": ".py",
   "mimetype": "text/x-python",
   "name": "python",
   "nbconvert_exporter": "python",
   "pygments_lexer": "ipython3",
   "version": "3.9.2-final"
  },
  "orig_nbformat": 2,
  "kernelspec": {
   "name": "python3",
   "display_name": "Python 3.9.2 64-bit ('mongo': conda)",
   "metadata": {
    "interpreter": {
     "hash": "17a98a81111581cc87e26a1767f3016ff2eed00ffbfe80480e53ba21e652722c"
    }
   }
  }
 },
 "nbformat": 4,
 "nbformat_minor": 2,
 "cells": [
  {
   "source": [
    "## PyMongo"
   ],
   "cell_type": "markdown",
   "metadata": {}
  },
  {
   "cell_type": "code",
   "execution_count": null,
   "metadata": {},
   "outputs": [],
   "source": [
    "from ssh_pymongo import MongoSession\n",
    "\n",
    "session = MongoSession(\n",
    "    host='157.90.156.123',\n",
    "    port=27017,\n",
    "    user='mongo_user',\n",
    "    password='kardelen'\n",
    ")\n",
    "\n",
    "db = session.connection['mongodb']\n",
    "print(db)"
   ]
  },
  {
   "cell_type": "code",
   "execution_count": null,
   "metadata": {},
   "outputs": [],
   "source": []
  }
 ]
}