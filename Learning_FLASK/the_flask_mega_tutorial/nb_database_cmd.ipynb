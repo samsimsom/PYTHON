{
 "metadata": {
  "language_info": {
   "codemirror_mode": {
    "name": "ipython",
    "version": 3
   },
   "file_extension": ".py",
   "mimetype": "text/x-python",
   "name": "python",
   "nbconvert_exporter": "python",
   "pygments_lexer": "ipython3",
   "version": "3.9.1-final"
  },
  "orig_nbformat": 2,
  "kernelspec": {
   "name": "python3",
   "display_name": "Python 3.9.1 64-bit ('flask': conda)",
   "metadata": {
    "interpreter": {
     "hash": "6c968c289f72d13e2955dbfd5e2a125e1595f621589260b6175d0eb6643d434b"
    }
   }
  }
 },
 "nbformat": 4,
 "nbformat_minor": 2,
 "cells": [
  {
   "cell_type": "code",
   "execution_count": 12,
   "metadata": {},
   "outputs": [],
   "source": [
    "from app import db"
   ]
  },
  {
   "cell_type": "code",
   "execution_count": 13,
   "metadata": {},
   "outputs": [],
   "source": [
    "from app.models import User, Post"
   ]
  },
  {
   "cell_type": "code",
   "execution_count": 14,
   "metadata": {},
   "outputs": [],
   "source": [
    "# Create and add new user to database\n",
    "user1 = User(username='abc', email='abc@gmail.com')\n",
    "db.session.add(user1)\n",
    "db.session.commit()"
   ]
  },
  {
   "cell_type": "code",
   "execution_count": 15,
   "metadata": {},
   "outputs": [],
   "source": [
    "# Create and add new user to database\n",
    "user2 = User(username='def', email='def@gmail.com')\n",
    "db.session.add(user2)\n",
    "db.session.commit()"
   ]
  },
  {
   "cell_type": "code",
   "execution_count": 16,
   "metadata": {},
   "outputs": [
    {
     "output_type": "stream",
     "name": "stdout",
     "text": [
      "[<User abc>, <User def>]\n1 abc abc@gmail.com\n2 def def@gmail.com\n"
     ]
    }
   ],
   "source": [
    "# Tum kullanicilar db den cekliyor\n",
    "users = User.query.all()\n",
    "print(users)\n",
    "\n",
    "for u in users:         # Liste yazdiriliyor\n",
    "    print(u.id, u.username, u.email)"
   ]
  },
  {
   "cell_type": "code",
   "execution_count": 17,
   "metadata": {},
   "outputs": [],
   "source": [
    "# Create and add new post to database with author user1\n",
    "post1 = Post(body='my first post!', author=user1)\n",
    "db.session.add(post1)\n",
    "db.session.commit()"
   ]
  },
  {
   "cell_type": "code",
   "execution_count": 18,
   "metadata": {},
   "outputs": [
    {
     "output_type": "stream",
     "name": "stdout",
     "text": [
      "abc abc@gmail.com\n"
     ]
    },
    {
     "output_type": "execute_result",
     "data": {
      "text/plain": [
       "[<Post my first post!>]"
      ]
     },
     "metadata": {},
     "execution_count": 18
    }
   ],
   "source": [
    "# ID'si 1 olan kullanici db den cekiliyor\n",
    "get_user1 = User.query.get(1)\n",
    "print(get_user1.username, get_user1.email)\n",
    "\n",
    "# u1 in tum postalari db den cekiliyor\n",
    "get_user1.posts.all()"
   ]
  },
  {
   "cell_type": "code",
   "execution_count": 19,
   "metadata": {},
   "outputs": [
    {
     "output_type": "execute_result",
     "data": {
      "text/plain": [
       "[]"
      ]
     },
     "metadata": {},
     "execution_count": 19
    }
   ],
   "source": [
    "# u2 in tum postalari db den cekiliyor\n",
    "get_user2 = User.query.get(2)\n",
    "get_user2.posts.all()"
   ]
  },
  {
   "cell_type": "code",
   "execution_count": 20,
   "metadata": {},
   "outputs": [
    {
     "output_type": "stream",
     "name": "stdout",
     "text": [
      "1 abc my first post!\n"
     ]
    }
   ],
   "source": [
    "# Tum postlar db den cekiliyor\n",
    "posts = Post.query.all()\n",
    "for p in posts:\n",
    "    print(p.id, p.author.username, p.body)"
   ]
  },
  {
   "cell_type": "code",
   "execution_count": 21,
   "metadata": {},
   "outputs": [
    {
     "output_type": "stream",
     "name": "stdout",
     "text": [
      "def\nabc\n"
     ]
    }
   ],
   "source": [
    "# Kullanici adlarina gore siralama test ceviriliyor\n",
    "sorted = User.query.order_by(User.username.desc()).all()\n",
    "for s in sorted:\n",
    "    print(s.username)"
   ]
  },
  {
   "cell_type": "code",
   "execution_count": 22,
   "metadata": {},
   "outputs": [],
   "source": [
    "# Delete All USERS\n",
    "users = User.query.all()\n",
    "for u in users:\n",
    "    db.session.delete(u)\n",
    "\n",
    "# Delete All POSTS\n",
    "posts = Post.query.all()\n",
    "for p in posts:\n",
    "    db.session.delete(p)\n",
    "\n",
    "# db commit\n",
    "db.session.commit()"
   ]
  }
 ]
}