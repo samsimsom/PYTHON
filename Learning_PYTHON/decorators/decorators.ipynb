{
 "metadata": {
  "language_info": {
   "codemirror_mode": {
    "name": "ipython",
    "version": 3
   },
   "file_extension": ".py",
   "mimetype": "text/x-python",
   "name": "python",
   "nbconvert_exporter": "python",
   "pygments_lexer": "ipython3",
   "version": "3.9.2-final"
  },
  "orig_nbformat": 2,
  "kernelspec": {
   "name": "python3",
   "display_name": "Python 3.9.2 64-bit ('flask': conda)",
   "metadata": {
    "interpreter": {
     "hash": "6c968c289f72d13e2955dbfd5e2a125e1595f621589260b6175d0eb6643d434b"
    }
   }
  }
 },
 "nbformat": 4,
 "nbformat_minor": 2,
 "cells": [
  {
   "source": [
    "## Closures"
   ],
   "cell_type": "markdown",
   "metadata": {}
  },
  {
   "source": [
    "def outer_function():\n",
    "    message = 'Hi'\n",
    "\n",
    "    def inner_function():\n",
    "        print(message)\n",
    "\n",
    "    return inner_function()\n",
    "\n",
    "outer_function()"
   ],
   "cell_type": "code",
   "metadata": {},
   "execution_count": null,
   "outputs": []
  },
  {
   "cell_type": "code",
   "execution_count": null,
   "metadata": {},
   "outputs": [],
   "source": [
    "def outer_function():\n",
    "    message = 'Hi'\n",
    "\n",
    "    def inner_function():\n",
    "        print(message)\n",
    "\n",
    "    return inner_function   # not call\n",
    "\n",
    "my_func = outer_function()\n",
    "my_func()\n",
    "my_func()"
   ]
  },
  {
   "cell_type": "code",
   "execution_count": null,
   "metadata": {},
   "outputs": [],
   "source": [
    "def outer_function(msg):\n",
    "    message = msg\n",
    "\n",
    "    def inner_function():\n",
    "        print(message)\n",
    "\n",
    "    return inner_function   # not call\n",
    "\n",
    "hi_func = outer_function('Hi')\n",
    "bye_func = outer_function('Bye')\n",
    "\n",
    "hi_func()\n",
    "bye_func()"
   ]
  },
  {
   "cell_type": "code",
   "execution_count": null,
   "metadata": {},
   "outputs": [],
   "source": [
    "def outer_function(msg):\n",
    "    def inner_function():\n",
    "        print(msg)\n",
    "\n",
    "    return inner_function   # not call\n",
    "\n",
    "hi_func = outer_function('Hi')\n",
    "bye_func = outer_function('Bye')\n",
    "\n",
    "hi_func()\n",
    "bye_func()"
   ]
  },
  {
   "source": [
    "## Decorators"
   ],
   "cell_type": "markdown",
   "metadata": {}
  },
  {
   "cell_type": "code",
   "execution_count": null,
   "metadata": {},
   "outputs": [],
   "source": [
    "def decorator_func(original_func):\n",
    "    def wrapper_func():\n",
    "        return original_func()\n",
    "    return wrapper_func\n",
    "\n",
    "def display():\n",
    "    print('display function ran')\n",
    "\n",
    "decorated_display = decorator_func(display)\n",
    "decorated_display()"
   ]
  },
  {
   "cell_type": "code",
   "execution_count": null,
   "metadata": {},
   "outputs": [],
   "source": [
    "def decorator_func(original_func):\n",
    "    def wrapper_func():\n",
    "        print(f'wrapper executed this before ({original_func.__name__})')\n",
    "        return original_func()\n",
    "    return wrapper_func\n",
    "\n",
    "def display():\n",
    "    print('display function ran')\n",
    "\n",
    "decorated_display = decorator_func(display)\n",
    "decorated_display()"
   ]
  },
  {
   "cell_type": "code",
   "execution_count": null,
   "metadata": {},
   "outputs": [],
   "source": [
    "def decorator_func(original_func):\n",
    "    def wrapper_func():\n",
    "        print(f'wrapper executed this before ({original_func.__name__})')\n",
    "        return original_func()\n",
    "    return wrapper_func\n",
    "\n",
    "@decorator_func\n",
    "def display():\n",
    "    print('display function ran')\n",
    "\n",
    "display()"
   ]
  },
  {
   "cell_type": "code",
   "execution_count": null,
   "metadata": {},
   "outputs": [],
   "source": [
    "def decorator_func(original_func):\n",
    "    def wrapper_func(*args, **kargs):\n",
    "        print(f'wrapper executed this before ({original_func.__name__})')\n",
    "        return original_func(*args, **kargs)\n",
    "    return wrapper_func\n",
    "\n",
    "@decorator_func\n",
    "def display():\n",
    "    print('display function ran')\n",
    "\n",
    "\n",
    "@decorator_func\n",
    "def display_info(name, age):\n",
    "    print(f'display_inf ran with arguments ({name}, {age})')\n",
    "\n",
    "\n",
    "display_info('Jhon', 36)\n",
    "display()"
   ]
  },
  {
   "cell_type": "code",
   "execution_count": null,
   "metadata": {},
   "outputs": [],
   "source": [
    "def decorator_func(original_func):\n",
    "    def wrapper_func(*args, **kwargs):\n",
    "        print(f'wrapper executed this before ({original_func.__name__})')\n",
    "        return original_func(*args, **kwargs)\n",
    "    return wrapper_func\n",
    "\n",
    "class decorator_class(object):\n",
    "\n",
    "    def __init__(self, original_func):\n",
    "        self.original_func = original_func\n",
    "    \n",
    "    def __call__(self, *args, **kwargs):\n",
    "        print(f'call method executed this before ({self.original_func.__name__})')\n",
    "        return self.original_func(*args, **kwargs)\n",
    "\n",
    "@decorator_class\n",
    "def display():\n",
    "    print('display function ran')\n",
    "\n",
    "\n",
    "@decorator_class\n",
    "def display_info(name, age):\n",
    "    print(f'display_inf ran with arguments ({name}, {age})')\n",
    "\n",
    "\n",
    "display_info('Jhon', 36)\n",
    "display()"
   ]
  },
  {
   "cell_type": "code",
   "execution_count": null,
   "metadata": {},
   "outputs": [],
   "source": [
    "def decorator_func(original_func):\n",
    "    def wrapper_func(*args, **kwargs):\n",
    "        print(f'wrapper executed this before ({original_func.__name__})')\n",
    "        return original_func(*args, **kwargs)\n",
    "    return wrapper_func\n",
    "\n",
    "@decorator_func\n",
    "def display():\n",
    "    print('display function ran')\n",
    "\n",
    "\n",
    "@decorator_func\n",
    "def display_info(name, age):\n",
    "    print(f'display_inf ran with arguments ({name}, {age})')\n",
    "\n",
    "\n",
    "display_info('Jhon', 36)\n",
    "display()"
   ]
  },
  {
   "source": [
    "## Practical Examples"
   ],
   "cell_type": "markdown",
   "metadata": {}
  },
  {
   "cell_type": "code",
   "execution_count": null,
   "metadata": {},
   "outputs": [],
   "source": [
    "def my_logger(orig_func):\n",
    "    import logging\n",
    "    logging.basicConfig(filename=f'{orig_func.__name__}.log', level=logging.INFO)\n",
    "\n",
    "    def wrapper(*args, **kwargs):\n",
    "        logging.info(f'Ran with args: {args}, and kwargs: {kwargs}')\n",
    "        return orig_func(*args, **kwargs)\n",
    "\n",
    "    return wrapper\n",
    "\n",
    "\n",
    "def my_timer(orig_func):\n",
    "    import time\n",
    "\n",
    "    def wrapper(*args, **kwargs):\n",
    "        t1 = time.time()\n",
    "        result = orig_func(*args, **kwargs)\n",
    "        t2 = time.time() - t1\n",
    "        print(f'{orig_func.__name__} ran in: {t2} sec.')\n",
    "        return result\n",
    "    \n",
    "    return wrapper"
   ]
  },
  {
   "cell_type": "code",
   "execution_count": null,
   "metadata": {},
   "outputs": [],
   "source": [
    "@my_logger\n",
    "def display_info(name, age):\n",
    "    print(f'display_info ran with arguments ({name}, {age})')\n",
    "\n",
    "display_info('Hank', 30)"
   ]
  },
  {
   "cell_type": "code",
   "execution_count": null,
   "metadata": {},
   "outputs": [],
   "source": [
    "@my_timer\n",
    "def display_info(name, age):\n",
    "    print(f'display_info ran with arguments ({name}, {age})')\n",
    "\n",
    "display_info('Hank', 30)"
   ]
  },
  {
   "cell_type": "code",
   "execution_count": null,
   "metadata": {},
   "outputs": [],
   "source": [
    "@my_logger\n",
    "@my_timer\n",
    "def display_info(name, age):\n",
    "    print(f'display_info ran with arguments ({name}, {age})')\n",
    "\n",
    "display_info('Hank', 30)"
   ]
  },
  {
   "source": [
    "## wraps"
   ],
   "cell_type": "markdown",
   "metadata": {}
  },
  {
   "cell_type": "code",
   "execution_count": 1,
   "metadata": {},
   "outputs": [],
   "source": [
    "from functools import wraps\n",
    "\n",
    "def my_logger(orig_func):\n",
    "    import logging\n",
    "    logging.basicConfig(filename=f'{orig_func.__name__}.log', level=logging.INFO)\n",
    "\n",
    "    @wraps(orig_func)\n",
    "    def wrapper(*args, **kwargs):\n",
    "        logging.info(f'Ran with args: {args}, and kwargs: {kwargs}')\n",
    "        return orig_func(*args, **kwargs)\n",
    "\n",
    "    return wrapper\n",
    "\n",
    "\n",
    "def my_timer(orig_func):\n",
    "    import time\n",
    "    \n",
    "    @wraps(orig_func)\n",
    "    def wrapper(*args, **kwargs):\n",
    "        t1 = time.time()\n",
    "        result = orig_func(*args, **kwargs)\n",
    "        t2 = time.time() - t1\n",
    "        print(f'{orig_func.__name__} ran in: {t2} sec.')\n",
    "        return result\n",
    "    \n",
    "    return wrapper"
   ]
  },
  {
   "cell_type": "code",
   "execution_count": 5,
   "metadata": {},
   "outputs": [
    {
     "output_type": "stream",
     "name": "stdout",
     "text": [
      "display_info\ndisplay_info ran with arguments (Hank, 30)\ndisplay_info ran in: 0.00018453598022460938 sec.\n"
     ]
    }
   ],
   "source": [
    "def display_info(name, age):\n",
    "    print(f'display_info ran with arguments ({name}, {age})')\n",
    "\n",
    "display_info = my_timer(display_info)\n",
    "print(display_info.__name__)\n",
    "display_info('Hank', 30)"
   ]
  },
  {
   "cell_type": "code",
   "execution_count": 6,
   "metadata": {},
   "outputs": [
    {
     "output_type": "stream",
     "name": "stdout",
     "text": [
      "display_info ran with arguments (Jhon, 32)\ndisplay_info ran in: 0.00035381317138671875 sec.\n"
     ]
    }
   ],
   "source": [
    "@my_logger\n",
    "@my_timer\n",
    "def display_info(name, age):\n",
    "    print(f'display_info ran with arguments ({name}, {age})')\n",
    "\n",
    "display_info('Jhon', 32)"
   ]
  },
  {
   "cell_type": "code",
   "execution_count": null,
   "metadata": {},
   "outputs": [],
   "source": []
  }
 ]
}